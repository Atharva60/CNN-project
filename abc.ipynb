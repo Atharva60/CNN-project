{
 "cells": [
  {
   "cell_type": "code",
   "execution_count": 1,
   "id": "e32f3009",
   "metadata": {},
   "outputs": [],
   "source": [
    "import numpy as np \n",
    "import pandas as pd\n",
    "import cv2\n",
    "import os\n",
    "import random\n",
    "from sklearn.model_selection import train_test_split\n",
    "from sklearn.metrics import classification_report"
   ]
  },
  {
   "cell_type": "code",
   "execution_count": 2,
   "id": "0cecc054",
   "metadata": {},
   "outputs": [],
   "source": [
    "directory = r\"Agricultural-crops\"\n",
    "def get_folder_names(directory_path):\n",
    "    folder_names = [folder for folder in os.listdir(directory_path) if os.path.isdir(os.path.join(directory_path, folder))]\n",
    "    return folder_names\n",
    "\n",
    "directory_path = directory\n",
    "categories = get_folder_names(directory_path)"
   ]
  },
  {
   "cell_type": "code",
   "execution_count": 3,
   "id": "1d2403b9",
   "metadata": {},
   "outputs": [],
   "source": [
    "img_data = []\n",
    "\n",
    "for catago in categories:\n",
    "    folder = os.path.join(directory, catago)\n",
    "    label = categories.index(catago)\n",
    "    for img in os.listdir(folder):\n",
    "        img_path = os.path.join(folder, img)\n",
    "        try:\n",
    "            img_array = cv2.imread(img_path)\n",
    "            img_array = cv2.resize(img_array, (100, 100))\n",
    "            if img_array is not None and not img_array.size == 0:\n",
    "                img_data.append([img_array, label])\n",
    "            else:\n",
    "                print(f\"Error loading or resizing image: {img_path}\")\n",
    "        except Exception as e:\n",
    "            print(f\"Error processing image {img_path}: {str(e)}\")\n",
    "\n",
    "random.shuffle(img_data)"
   ]
  },
  {
   "cell_type": "code",
   "execution_count": 15,
   "id": "e3dc7f9c",
   "metadata": {},
   "outputs": [],
   "source": [
    "X = []\n",
    "Y = []\n",
    "for features, labels in img_data:\n",
    "    X.append(features)\n",
    "    Y.append(labels)\n",
    "    \n",
    "X = np.array(X)\n",
    "Y = np.array(Y)\n",
    "X = X / 255\n",
    "\n",
    "from tensorflow.keras.utils import to_categorical\n",
    "Y = to_categorical(Y, num_classes=30)"
   ]
  },
  {
   "cell_type": "code",
   "execution_count": 16,
   "id": "ddc7263d",
   "metadata": {},
   "outputs": [
    {
     "name": "stdout",
     "output_type": "stream",
     "text": [
      "Epoch 1/10\n",
      "21/21 [==============================] - 10s 285ms/step - loss: 3.4792 - accuracy: 0.0362 - val_loss: 3.4104 - val_accuracy: 0.0241\n",
      "Epoch 2/10\n",
      "21/21 [==============================] - 6s 264ms/step - loss: 3.3598 - accuracy: 0.0679 - val_loss: 3.3972 - val_accuracy: 0.0241\n",
      "Epoch 3/10\n",
      "21/21 [==============================] - 5s 263ms/step - loss: 3.2105 - accuracy: 0.1116 - val_loss: 3.3367 - val_accuracy: 0.0542\n",
      "Epoch 4/10\n",
      "21/21 [==============================] - 5s 228ms/step - loss: 2.9265 - accuracy: 0.1870 - val_loss: 3.1945 - val_accuracy: 0.1265\n",
      "Epoch 5/10\n",
      "21/21 [==============================] - 5s 223ms/step - loss: 2.5489 - accuracy: 0.2836 - val_loss: 3.1997 - val_accuracy: 0.1205\n",
      "Epoch 6/10\n",
      "21/21 [==============================] - 5s 224ms/step - loss: 2.1038 - accuracy: 0.4268 - val_loss: 3.1603 - val_accuracy: 0.1506\n",
      "Epoch 7/10\n",
      "21/21 [==============================] - 5s 221ms/step - loss: 1.6412 - accuracy: 0.5732 - val_loss: 3.2908 - val_accuracy: 0.1386\n",
      "Epoch 8/10\n",
      "21/21 [==============================] - 5s 223ms/step - loss: 1.2931 - accuracy: 0.6546 - val_loss: 3.0860 - val_accuracy: 0.2530\n",
      "Epoch 9/10\n",
      "21/21 [==============================] - 5s 218ms/step - loss: 0.8453 - accuracy: 0.8084 - val_loss: 3.3959 - val_accuracy: 0.2711\n",
      "Epoch 10/10\n",
      "21/21 [==============================] - 5s 218ms/step - loss: 0.6199 - accuracy: 0.8567 - val_loss: 3.3082 - val_accuracy: 0.2349\n"
     ]
    },
    {
     "data": {
      "text/plain": [
       "<keras.src.callbacks.History at 0x226810c6ad0>"
      ]
     },
     "execution_count": 16,
     "metadata": {},
     "output_type": "execute_result"
    }
   ],
   "source": [
    "from tensorflow.keras.models import Sequential\n",
    "from tensorflow.keras.layers import Conv2D, MaxPooling2D, Flatten, Dense\n",
    "\n",
    "\n",
    "# Update the model\n",
    "cnn = Sequential()\n",
    "cnn.add(Conv2D(filters=32, kernel_size=(3, 3), input_shape=X.shape[1:], activation=\"relu\"))\n",
    "cnn.add(MaxPooling2D(pool_size=(2, 2)))\n",
    "cnn.add(Conv2D(filters=64, kernel_size=(3, 3), activation=\"relu\"))\n",
    "cnn.add(MaxPooling2D(pool_size=(2, 2)))\n",
    "cnn.add(Flatten())\n",
    "cnn.add(Dense(units=64, activation=\"relu\"))\n",
    "cnn.add(Dense(units=30, activation=\"softmax\"))\n",
    "cnn.compile(optimizer=\"adam\", loss=\"categorical_crossentropy\", metrics=[\"accuracy\"])\n",
    "\n",
    "# Train the model\n",
    "cnn.fit(X, Y, epochs=10, validation_split=0.2)"
   ]
  },
  {
   "cell_type": "code",
   "execution_count": 19,
   "id": "076ce26d",
   "metadata": {},
   "outputs": [],
   "source": [
    "def predict_crop(image):\n",
    "    test = cv2.imread(image)\n",
    "    test = cv2.resize(test, (100, 100))\n",
    "\n",
    "# Ensure image has 3 color channels\n",
    "    test = cv2.cvtColor(test, cv2.COLOR_BGR2RGB)\n",
    "\n",
    "# Normalize pixel values to be between 0 and 1\n",
    "    test = test / 255.0\n",
    "\n",
    "# Add batch dimension\n",
    "    test = np.expand_dims(test, axis=0)\n",
    "\n",
    "# Perform prediction\n",
    "    value = cnn.predict(test)\n",
    "\n",
    "    output = np.argmax(value)\n",
    "\n",
    "# Print the predicted class name\n",
    "    return categories[output]"
   ]
  },
  {
   "cell_type": "code",
   "execution_count": 20,
   "id": "1525cc80",
   "metadata": {
    "scrolled": true
   },
   "outputs": [
    {
     "name": "stdout",
     "output_type": "stream",
     "text": [
      "1/1 [==============================] - 0s 53ms/step\n"
     ]
    },
    {
     "data": {
      "text/plain": [
       "'Fox_nut(Makhana)'"
      ]
     },
     "execution_count": 20,
     "metadata": {},
     "output_type": "execute_result"
    }
   ],
   "source": [
    "predict_crop('makhana.jpg')"
   ]
  }
 ],
 "metadata": {
  "kernelspec": {
   "display_name": "Python 3 (ipykernel)",
   "language": "python",
   "name": "python3"
  },
  "language_info": {
   "codemirror_mode": {
    "name": "ipython",
    "version": 3
   },
   "file_extension": ".py",
   "mimetype": "text/x-python",
   "name": "python",
   "nbconvert_exporter": "python",
   "pygments_lexer": "ipython3",
   "version": "3.11.4"
  }
 },
 "nbformat": 4,
 "nbformat_minor": 5
}
